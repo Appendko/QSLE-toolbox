{
 "cells": [
  {
   "cell_type": "code",
   "execution_count": 9,
   "metadata": {
    "metadata": {}
   },
   "outputs": [],
   "source": [
    "import numpy as np\n",
    "import scipy.constants as sc\n",
    "from scipy.constants import physical_constants as pc\n",
    "np.set_printoptions(suppress=True, precision=8, linewidth=150)\n",
    "\n",
    "# Unit Conversion\n",
    "# Energy\n",
    "HARTREE2CM    = pc['hartree-inverse meter relationship'][0]/100.0\n",
    "\n",
    "# Mass\n",
    "AMU2AU        = sc.atomic_mass/sc.electron_mass\n",
    "\n",
    "# Dipole Moment\n",
    "DEBYE_SI = 1e-21/sc.c\n",
    "ABS_CONSTANT_SI = pc['Avogadro constant'][0] / (12 *pc['vacuum electric permittivity'][0]* sc.c**2)\n",
    "AU2KMMOL = ABS_CONSTANT_SI * DEBYE_SI**2 * 1e-3 / pc[\"Bohr radius\"][0]**2 / sc.electron_mass\n"
   ]
  },
  {
   "cell_type": "code",
   "execution_count": 10,
   "metadata": {
    "metadata": {}
   },
   "outputs": [],
   "source": [
    "# Matrix Prettifier for yml format\n",
    "def MatrixPrettifier(array, name):\n",
    "    txt = array.__repr__()\n",
    "    txt = txt.replace(\"array(\", \"%-6s\"%name)\n",
    "    txt = txt.replace(\")\", \"\") \n",
    "    txt = txt.replace(\"\\n\\n\", \"\\n\") \n",
    "    txt += \"\\n\\n\"\n",
    "    return txt"
   ]
  },
  {
   "cell_type": "code",
   "execution_count": 11,
   "metadata": {
    "metadata": {}
   },
   "outputs": [],
   "source": [
    "# Parameters\n",
    "omega = np.array([1600, 3200]) / HARTREE2CM\n",
    "V12 = 50 / HARTREE2CM\n",
    "mass = np.array([1.08, 1.04]) * AMU2AU\n",
    "dipz = np.array([8.98477, -21.1247]) / np.sqrt(AU2KMMOL)\n",
    "bs = np.array([[0, 0], [1, 0], [2, 0], [0, 1], [1, 1], [2, 1], [0, 2]])"
   ]
  },
  {
   "cell_type": "markdown",
   "metadata": {},
   "source": [
    "$H = (n_1+\\frac{1}{2})\\hbar\\omega_1 + (n_2+\\frac{1}{2})\\hbar\\omega_2 + V_{12}\\hat{a}_1^\\dagger\\hat{a}_1^\\dagger\\hat{a}_2 + V_{12}^\\ast\\hat{a}_1\\hat{a}_1\\hat{a}_2^\\dagger $ "
   ]
  },
  {
   "cell_type": "code",
   "execution_count": 12,
   "metadata": {
    "metadata": {}
   },
   "outputs": [
    {
     "name": "stdout",
     "output_type": "stream",
     "text": [
      "H:    [[0.0109352 , 0.        , 0.        , 0.        , 0.        , 0.        , 0.        ],\n",
      "       [0.        , 0.01822534, 0.        , 0.        , 0.        , 0.        , 0.        ],\n",
      "       [0.        , 0.        , 0.02551548, 0.00022782, 0.        , 0.        , 0.        ],\n",
      "       [0.        , 0.        , 0.00022782, 0.02551548, 0.        , 0.        , 0.        ],\n",
      "       [0.        , 0.        , 0.        , 0.        , 0.03280561, 0.        , 0.        ],\n",
      "       [0.        , 0.        , 0.        , 0.        , 0.        , 0.04009575, 0.00032218],\n",
      "       [0.        , 0.        , 0.        , 0.        , 0.        , 0.00032218, 0.04009575]]\n",
      "\n",
      "\n"
     ]
    }
   ],
   "source": [
    "H = np.diag((bs+1/2)@omega)\n",
    "H[2,3] = V12\n",
    "H[3,2] = V12\n",
    "H[5,6] = V12 * np.sqrt(2)\n",
    "H[6,5] = V12 * np.sqrt(2) \n",
    "print(MatrixPrettifier(H, \"H:\"))"
   ]
  },
  {
   "cell_type": "markdown",
   "metadata": {},
   "source": [
    "The position operator $\\hat{x}$ and momentum operator $\\hat{p}$ for mass-weighted coordinate is written as:\n",
    "\n",
    "${\\hat{x}}={\\sqrt {\\frac {\\hbar }{2\\omega }}}(a^{\\dagger }+a)$\n",
    "\n",
    "${\\hat{p}}=i{\\sqrt {\\frac {\\hbar \\omega }{2}}}(a^{\\dagger }-a)$\n"
   ]
  },
  {
   "cell_type": "code",
   "execution_count": 20,
   "metadata": {
    "metadata": {}
   },
   "outputs": [
    {
     "name": "stdout",
     "output_type": "stream",
     "text": [
      "x:    [[[ 0.        ,  8.28165577,  0.        ,  0.        ,  0.        ,  0.        ,  0.        ],\n",
      "        [ 8.28165577,  0.        , 11.71202991,  0.        ,  0.        ,  0.        ,  0.        ],\n",
      "        [ 0.        , 11.71202991,  0.        ,  0.        ,  0.        ,  0.        ,  0.        ],\n",
      "        [ 0.        ,  0.        ,  0.        ,  0.        ,  8.28165577,  0.        ,  0.        ],\n",
      "        [ 0.        ,  0.        ,  0.        ,  8.28165577,  0.        , 11.71202991,  0.        ],\n",
      "        [ 0.        ,  0.        ,  0.        ,  0.        , 11.71202991,  0.        ,  0.        ],\n",
      "        [ 0.        ,  0.        ,  0.        ,  0.        ,  0.        ,  0.        ,  0.        ]],\n",
      "       [[ 0.        ,  0.        ,  0.        ,  5.85601495,  0.        ,  0.        ,  0.        ],\n",
      "        [ 0.        ,  0.        ,  0.        ,  0.        ,  5.85601495,  0.        ,  0.        ],\n",
      "        [ 0.        ,  0.        ,  0.        ,  0.        ,  0.        ,  5.85601495,  0.        ],\n",
      "        [ 5.85601495,  0.        ,  0.        ,  0.        ,  0.        ,  0.        ,  8.28165577],\n",
      "        [ 0.        ,  5.85601495,  0.        ,  0.        ,  0.        ,  0.        ,  0.        ],\n",
      "        [ 0.        ,  0.        ,  5.85601495,  0.        ,  0.        ,  0.        ,  0.        ],\n",
      "        [ 0.        ,  0.        ,  0.        ,  8.28165577,  0.        ,  0.        ,  0.        ]]]\n",
      "\n",
      "\n"
     ]
    }
   ],
   "source": [
    "q1, q2 = bs.T\n",
    "a1 = (q1 - q1.reshape(-1,1) == 1) * (q2 - q2.reshape(-1,1) == 0) * np.sqrt(q1)\n",
    "a2 = (q2 - q2.reshape(-1,1) == 1) * (q1 - q1.reshape(-1,1) == 0) * np.sqrt(q2)\n",
    "x1 = np.sqrt(1/(2*omega[0])) * (a1.T + a1)\n",
    "x2 = np.sqrt(1/(2*omega[1])) * (a2.T + a2)\n",
    "x = np.stack((x1,x2))\n",
    "print(MatrixPrettifier(x, \"x:\"))\n"
   ]
  },
  {
   "cell_type": "code",
   "execution_count": 18,
   "metadata": {
    "metadata": {}
   },
   "outputs": [
    {
     "name": "stdout",
     "output_type": "stream",
     "text": [
      "p:    [[[ 0.+0.j       , -0.-0.0603744j,  0.+0.j       ,  0.+0.j       ,  0.+0.j       ,  0.+0.j       ,  0.+0.j       ],\n",
      "        [ 0.+0.0603744j,  0.+0.j       , -0.-0.0853823j,  0.+0.j       ,  0.+0.j       ,  0.+0.j       ,  0.+0.j       ],\n",
      "        [ 0.+0.j       ,  0.+0.0853823j,  0.+0.j       ,  0.+0.j       ,  0.+0.j       ,  0.+0.j       ,  0.+0.j       ],\n",
      "        [ 0.+0.j       ,  0.+0.j       ,  0.+0.j       ,  0.+0.j       , -0.-0.0603744j,  0.+0.j       ,  0.+0.j       ],\n",
      "        [ 0.+0.j       ,  0.+0.j       ,  0.+0.j       ,  0.+0.0603744j,  0.+0.j       , -0.-0.0853823j,  0.+0.j       ],\n",
      "        [ 0.+0.j       ,  0.+0.j       ,  0.+0.j       ,  0.+0.j       ,  0.+0.0853823j,  0.+0.j       ,  0.+0.j       ],\n",
      "        [ 0.+0.j       ,  0.+0.j       ,  0.+0.j       ,  0.+0.j       ,  0.+0.j       ,  0.+0.j       ,  0.+0.j       ]],\n",
      "       [[ 0.+0.j       ,  0.+0.j       ,  0.+0.j       , -0.-0.0853823j,  0.+0.j       ,  0.+0.j       ,  0.+0.j       ],\n",
      "        [ 0.+0.j       ,  0.+0.j       ,  0.+0.j       ,  0.+0.j       , -0.-0.0853823j,  0.+0.j       ,  0.+0.j       ],\n",
      "        [ 0.+0.j       ,  0.+0.j       ,  0.+0.j       ,  0.+0.j       ,  0.+0.j       , -0.-0.0853823j,  0.+0.j       ],\n",
      "        [ 0.+0.0853823j,  0.+0.j       ,  0.+0.j       ,  0.+0.j       ,  0.+0.j       ,  0.+0.j       , -0.-0.1207488j],\n",
      "        [ 0.+0.j       ,  0.+0.0853823j,  0.+0.j       ,  0.+0.j       ,  0.+0.j       ,  0.+0.j       ,  0.+0.j       ],\n",
      "        [ 0.+0.j       ,  0.+0.j       ,  0.+0.0853823j,  0.+0.j       ,  0.+0.j       ,  0.+0.j       ,  0.+0.j       ],\n",
      "        [ 0.+0.j       ,  0.+0.j       ,  0.+0.j       ,  0.+0.1207488j,  0.+0.j       ,  0.+0.j       ,  0.+0.j       ]]]\n",
      "\n",
      "\n"
     ]
    }
   ],
   "source": [
    "p1 = 1j * np.sqrt(omega[0]/2) * (a1.T-a1)\n",
    "p2 = 1j * np.sqrt(omega[1]/2) * (a2.T-a2)\n",
    "p = np.stack((p1,p2))\n",
    "print(MatrixPrettifier(p, \"p:\"))"
   ]
  },
  {
   "cell_type": "markdown",
   "metadata": {},
   "source": [
    "$\\hat{\\mu}=\\frac{\\partial\\hat{\\mu}}{\\partial x_1}\\hat{x_1}+\\frac{\\partial\\hat{\\mu}}{\\partial x_2}\\hat{x_2}$"
   ]
  },
  {
   "cell_type": "code",
   "execution_count": 19,
   "metadata": {
    "metadata": {}
   },
   "outputs": [
    {
     "name": "stdout",
     "output_type": "stream",
     "text": [
      "mu:   [[[ 0.        ,  0.14187331,  0.        , -0.23586815,  0.        ,  0.        ,  0.        ],\n",
      "        [ 0.14187331,  0.        ,  0.20063916,  0.        , -0.23586815,  0.        ,  0.        ],\n",
      "        [ 0.        ,  0.20063916,  0.        ,  0.        ,  0.        , -0.23586815,  0.        ],\n",
      "        [-0.23586815,  0.        ,  0.        ,  0.        ,  0.14187331,  0.        , -0.33356794],\n",
      "        [ 0.        , -0.23586815,  0.        ,  0.14187331,  0.        ,  0.20063916,  0.        ],\n",
      "        [ 0.        ,  0.        , -0.23586815,  0.        ,  0.20063916,  0.        ,  0.        ],\n",
      "        [ 0.        ,  0.        ,  0.        , -0.33356794,  0.        ,  0.        ,  0.        ]]]\n",
      "\n",
      "\n"
     ]
    }
   ],
   "source": [
    "dip = (dipz[0] * x1 + dipz[1] * x2)\n",
    "dip = dip.reshape(1, *(dip.shape))\n",
    "print(MatrixPrettifier(dip, \"mu:\"))"
   ]
  },
  {
   "cell_type": "code",
   "execution_count": 16,
   "metadata": {
    "metadata": {}
   },
   "outputs": [
    {
     "name": "stdout",
     "output_type": "stream",
     "text": [
      "H:    [[0.0109352 , 0.        , 0.        , 0.        , 0.        , 0.        , 0.        ],\n",
      "       [0.        , 0.01822534, 0.        , 0.        , 0.        , 0.        , 0.        ],\n",
      "       [0.        , 0.        , 0.02551548, 0.00022782, 0.        , 0.        , 0.        ],\n",
      "       [0.        , 0.        , 0.00022782, 0.02551548, 0.        , 0.        , 0.        ],\n",
      "       [0.        , 0.        , 0.        , 0.        , 0.03280561, 0.        , 0.        ],\n",
      "       [0.        , 0.        , 0.        , 0.        , 0.        , 0.04009575, 0.00032218],\n",
      "       [0.        , 0.        , 0.        , 0.        , 0.        , 0.00032218, 0.04009575]]\n",
      "\n",
      "mu:   [[[ 0.        ,  0.14187331,  0.        , -0.23586815,  0.        ,  0.        ,  0.        ],\n",
      "        [ 0.14187331,  0.        ,  0.20063916,  0.        , -0.23586815,  0.        ,  0.        ],\n",
      "        [ 0.        ,  0.20063916,  0.        ,  0.        ,  0.        , -0.23586815,  0.        ],\n",
      "        [-0.23586815,  0.        ,  0.        ,  0.        ,  0.14187331,  0.        , -0.33356794],\n",
      "        [ 0.        , -0.23586815,  0.        ,  0.14187331,  0.        ,  0.20063916,  0.        ],\n",
      "        [ 0.        ,  0.        , -0.23586815,  0.        ,  0.20063916,  0.        ,  0.        ],\n",
      "        [ 0.        ,  0.        ,  0.        , -0.33356794,  0.        ,  0.        ,  0.        ]]]\n",
      "\n",
      "x:    [[[ 0.        ,  8.28165577,  0.        ,  0.        ,  0.        ,  0.        ,  0.        ],\n",
      "        [ 8.28165577,  0.        , 11.71202991,  0.        ,  0.        ,  0.        ,  0.        ],\n",
      "        [ 0.        , 11.71202991,  0.        ,  0.        ,  0.        ,  0.        ,  0.        ],\n",
      "        [ 0.        ,  0.        ,  0.        ,  0.        ,  8.28165577,  0.        ,  0.        ],\n",
      "        [ 0.        ,  0.        ,  0.        ,  8.28165577,  0.        , 11.71202991,  0.        ],\n",
      "        [ 0.        ,  0.        ,  0.        ,  0.        , 11.71202991,  0.        ,  0.        ],\n",
      "        [ 0.        ,  0.        ,  0.        ,  0.        ,  0.        ,  0.        ,  0.        ]],\n",
      "       [[ 0.        ,  0.        ,  0.        ,  5.85601495,  0.        ,  0.        ,  0.        ],\n",
      "        [ 0.        ,  0.        ,  0.        ,  0.        ,  5.85601495,  0.        ,  0.        ],\n",
      "        [ 0.        ,  0.        ,  0.        ,  0.        ,  0.        ,  5.85601495,  0.        ],\n",
      "        [ 5.85601495,  0.        ,  0.        ,  0.        ,  0.        ,  0.        ,  8.28165577],\n",
      "        [ 0.        ,  5.85601495,  0.        ,  0.        ,  0.        ,  0.        ,  0.        ],\n",
      "        [ 0.        ,  0.        ,  5.85601495,  0.        ,  0.        ,  0.        ,  0.        ],\n",
      "        [ 0.        ,  0.        ,  0.        ,  8.28165577,  0.        ,  0.        ,  0.        ]]]\n",
      "\n",
      "p:    [[[ 0.+0.j       ,  0.+0.0603744j,  0.+0.j       ,  0.+0.j       ,  0.+0.j       ,  0.+0.j       ,  0.+0.j       ],\n",
      "        [-0.-0.0603744j,  0.+0.j       ,  0.+0.0853823j,  0.+0.j       ,  0.+0.j       ,  0.+0.j       ,  0.+0.j       ],\n",
      "        [ 0.+0.j       , -0.-0.0853823j,  0.+0.j       ,  0.+0.j       ,  0.+0.j       ,  0.+0.j       ,  0.+0.j       ],\n",
      "        [ 0.+0.j       ,  0.+0.j       ,  0.+0.j       ,  0.+0.j       ,  0.+0.0603744j,  0.+0.j       ,  0.+0.j       ],\n",
      "        [ 0.+0.j       ,  0.+0.j       ,  0.+0.j       , -0.-0.0603744j,  0.+0.j       ,  0.+0.0853823j,  0.+0.j       ],\n",
      "        [ 0.+0.j       ,  0.+0.j       ,  0.+0.j       ,  0.+0.j       , -0.-0.0853823j,  0.+0.j       ,  0.+0.j       ],\n",
      "        [ 0.+0.j       ,  0.+0.j       ,  0.+0.j       ,  0.+0.j       ,  0.+0.j       ,  0.+0.j       ,  0.+0.j       ]],\n",
      "       [[ 0.+0.j       ,  0.+0.j       ,  0.+0.j       ,  0.+0.0853823j,  0.+0.j       ,  0.+0.j       ,  0.+0.j       ],\n",
      "        [ 0.+0.j       ,  0.+0.j       ,  0.+0.j       ,  0.+0.j       ,  0.+0.0853823j,  0.+0.j       ,  0.+0.j       ],\n",
      "        [ 0.+0.j       ,  0.+0.j       ,  0.+0.j       ,  0.+0.j       ,  0.+0.j       ,  0.+0.0853823j,  0.+0.j       ],\n",
      "        [-0.-0.0853823j,  0.+0.j       ,  0.+0.j       ,  0.+0.j       ,  0.+0.j       ,  0.+0.j       ,  0.+0.1207488j],\n",
      "        [ 0.+0.j       , -0.-0.0853823j,  0.+0.j       ,  0.+0.j       ,  0.+0.j       ,  0.+0.j       ,  0.+0.j       ],\n",
      "        [ 0.+0.j       ,  0.+0.j       , -0.-0.0853823j,  0.+0.j       ,  0.+0.j       ,  0.+0.j       ,  0.+0.j       ],\n",
      "        [ 0.+0.j       ,  0.+0.j       ,  0.+0.j       , -0.-0.1207488j,  0.+0.j       ,  0.+0.j       ,  0.+0.j       ]]]\n",
      "\n",
      "\n"
     ]
    }
   ],
   "source": [
    "print(MatrixPrettifier(H, \"H:\") \n",
    "      + MatrixPrettifier(dip, \"mu:\") \n",
    "      + MatrixPrettifier(x, \"x:\") \n",
    "      + MatrixPrettifier(p, \"p:\"))"
   ]
  },
  {
   "cell_type": "code",
   "execution_count": null,
   "metadata": {},
   "outputs": [],
   "source": []
  }
 ],
 "metadata": {
  "kernelspec": {
   "display_name": "Python 3",
   "language": "python",
   "name": "python3"
  },
  "language_info": {
   "codemirror_mode": {
    "name": "ipython",
    "version": 3
   },
   "file_extension": ".py",
   "mimetype": "text/x-python",
   "name": "python",
   "nbconvert_exporter": "python",
   "pygments_lexer": "ipython3",
   "version": "3.7.6"
  }
 },
 "nbformat": 4,
 "nbformat_minor": 2
}
